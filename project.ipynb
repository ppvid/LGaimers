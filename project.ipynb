{
 "cells": [
  {
   "cell_type": "code",
   "execution_count": 47,
   "id": "0ce0c2a5",
   "metadata": {},
   "outputs": [
    {
     "data": {
      "text/html": [
       "<div>\n",
       "<style scoped>\n",
       "    .dataframe tbody tr th:only-of-type {\n",
       "        vertical-align: middle;\n",
       "    }\n",
       "\n",
       "    .dataframe tbody tr th {\n",
       "        vertical-align: top;\n",
       "    }\n",
       "\n",
       "    .dataframe thead th {\n",
       "        text-align: right;\n",
       "    }\n",
       "</style>\n",
       "<table border=\"1\" class=\"dataframe\">\n",
       "  <thead>\n",
       "    <tr style=\"text-align: right;\">\n",
       "      <th></th>\n",
       "      <th>영업일자</th>\n",
       "      <th>영업장명_메뉴명</th>\n",
       "      <th>매출수량</th>\n",
       "    </tr>\n",
       "  </thead>\n",
       "  <tbody>\n",
       "    <tr>\n",
       "      <th>0</th>\n",
       "      <td>2023-01-01</td>\n",
       "      <td>느티나무 셀프BBQ_1인 수저세트</td>\n",
       "      <td>0</td>\n",
       "    </tr>\n",
       "    <tr>\n",
       "      <th>1</th>\n",
       "      <td>2023-01-02</td>\n",
       "      <td>느티나무 셀프BBQ_1인 수저세트</td>\n",
       "      <td>0</td>\n",
       "    </tr>\n",
       "    <tr>\n",
       "      <th>2</th>\n",
       "      <td>2023-01-03</td>\n",
       "      <td>느티나무 셀프BBQ_1인 수저세트</td>\n",
       "      <td>0</td>\n",
       "    </tr>\n",
       "    <tr>\n",
       "      <th>3</th>\n",
       "      <td>2023-01-04</td>\n",
       "      <td>느티나무 셀프BBQ_1인 수저세트</td>\n",
       "      <td>0</td>\n",
       "    </tr>\n",
       "    <tr>\n",
       "      <th>4</th>\n",
       "      <td>2023-01-05</td>\n",
       "      <td>느티나무 셀프BBQ_1인 수저세트</td>\n",
       "      <td>0</td>\n",
       "    </tr>\n",
       "  </tbody>\n",
       "</table>\n",
       "</div>"
      ],
      "text/plain": [
       "         영업일자            영업장명_메뉴명  매출수량\n",
       "0  2023-01-01  느티나무 셀프BBQ_1인 수저세트     0\n",
       "1  2023-01-02  느티나무 셀프BBQ_1인 수저세트     0\n",
       "2  2023-01-03  느티나무 셀프BBQ_1인 수저세트     0\n",
       "3  2023-01-04  느티나무 셀프BBQ_1인 수저세트     0\n",
       "4  2023-01-05  느티나무 셀프BBQ_1인 수저세트     0"
      ]
     },
     "execution_count": 47,
     "metadata": {},
     "output_type": "execute_result"
    }
   ],
   "source": [
    "import pandas as pd\n",
    "df=pd.read_csv('train/train.csv')\n",
    "df.head()"
   ]
  },
  {
   "cell_type": "code",
   "execution_count": 48,
   "id": "b291b91c",
   "metadata": {},
   "outputs": [
    {
     "name": "stdout",
     "output_type": "stream",
     "text": [
      "<class 'pandas.core.frame.DataFrame'>\n",
      "RangeIndex: 102676 entries, 0 to 102675\n",
      "Data columns (total 3 columns):\n",
      " #   Column    Non-Null Count   Dtype \n",
      "---  ------    --------------   ----- \n",
      " 0   영업일자      102676 non-null  object\n",
      " 1   영업장명_메뉴명  102676 non-null  object\n",
      " 2   매출수량      102676 non-null  int64 \n",
      "dtypes: int64(1), object(2)\n",
      "memory usage: 2.4+ MB\n"
     ]
    }
   ],
   "source": [
    "df.info()"
   ]
  },
  {
   "cell_type": "code",
   "execution_count": 49,
   "id": "270e93ed",
   "metadata": {},
   "outputs": [
    {
     "data": {
      "text/plain": [
       "193"
      ]
     },
     "execution_count": 49,
     "metadata": {},
     "output_type": "execute_result"
    }
   ],
   "source": [
    "df['영업장명_메뉴명'].nunique()"
   ]
  },
  {
   "cell_type": "code",
   "execution_count": 50,
   "id": "1dc159a0",
   "metadata": {},
   "outputs": [
    {
     "data": {
      "text/html": [
       "<div>\n",
       "<style scoped>\n",
       "    .dataframe tbody tr th:only-of-type {\n",
       "        vertical-align: middle;\n",
       "    }\n",
       "\n",
       "    .dataframe tbody tr th {\n",
       "        vertical-align: top;\n",
       "    }\n",
       "\n",
       "    .dataframe thead th {\n",
       "        text-align: right;\n",
       "    }\n",
       "</style>\n",
       "<table border=\"1\" class=\"dataframe\">\n",
       "  <thead>\n",
       "    <tr style=\"text-align: right;\">\n",
       "      <th></th>\n",
       "      <th>영업일자</th>\n",
       "      <th>매출수량</th>\n",
       "      <th>영업장명</th>\n",
       "      <th>메뉴명</th>\n",
       "    </tr>\n",
       "  </thead>\n",
       "  <tbody>\n",
       "    <tr>\n",
       "      <th>0</th>\n",
       "      <td>2023-01-01</td>\n",
       "      <td>0</td>\n",
       "      <td>느티나무 셀프BBQ</td>\n",
       "      <td>1인 수저세트</td>\n",
       "    </tr>\n",
       "    <tr>\n",
       "      <th>1</th>\n",
       "      <td>2023-01-02</td>\n",
       "      <td>0</td>\n",
       "      <td>느티나무 셀프BBQ</td>\n",
       "      <td>1인 수저세트</td>\n",
       "    </tr>\n",
       "    <tr>\n",
       "      <th>2</th>\n",
       "      <td>2023-01-03</td>\n",
       "      <td>0</td>\n",
       "      <td>느티나무 셀프BBQ</td>\n",
       "      <td>1인 수저세트</td>\n",
       "    </tr>\n",
       "    <tr>\n",
       "      <th>3</th>\n",
       "      <td>2023-01-04</td>\n",
       "      <td>0</td>\n",
       "      <td>느티나무 셀프BBQ</td>\n",
       "      <td>1인 수저세트</td>\n",
       "    </tr>\n",
       "    <tr>\n",
       "      <th>4</th>\n",
       "      <td>2023-01-05</td>\n",
       "      <td>0</td>\n",
       "      <td>느티나무 셀프BBQ</td>\n",
       "      <td>1인 수저세트</td>\n",
       "    </tr>\n",
       "  </tbody>\n",
       "</table>\n",
       "</div>"
      ],
      "text/plain": [
       "        영업일자  매출수량        영업장명      메뉴명\n",
       "0 2023-01-01     0  느티나무 셀프BBQ  1인 수저세트\n",
       "1 2023-01-02     0  느티나무 셀프BBQ  1인 수저세트\n",
       "2 2023-01-03     0  느티나무 셀프BBQ  1인 수저세트\n",
       "3 2023-01-04     0  느티나무 셀프BBQ  1인 수저세트\n",
       "4 2023-01-05     0  느티나무 셀프BBQ  1인 수저세트"
      ]
     },
     "execution_count": 50,
     "metadata": {},
     "output_type": "execute_result"
    }
   ],
   "source": [
    "# 날짜 형식으로 변환\n",
    "df['영업일자'] = pd.to_datetime(df['영업일자'])\n",
    "\n",
    "# 영업장명, 메뉴명 분리\n",
    "df[['영업장명', '메뉴명']] = df['영업장명_메뉴명'].str.split('_', n=1, expand=True)\n",
    "\n",
    "# 필요없는 원본 컬럼 제거\n",
    "df.drop(columns=['영업장명_메뉴명'], inplace=True)\n",
    "df.head()"
   ]
  },
  {
   "cell_type": "code",
   "execution_count": 51,
   "id": "5aef1701",
   "metadata": {},
   "outputs": [
    {
     "data": {
      "text/plain": [
       "영업장명\n",
       "포레스트릿         305421\n",
       "카페테리아         240850\n",
       "화담숲주막         146311\n",
       "담하            124917\n",
       "미라시아           98071\n",
       "느티나무 셀프BBQ     69786\n",
       "화담숲카페          62634\n",
       "연회장            28373\n",
       "라그로타           17453\n",
       "Name: 매출수량, dtype: int64"
      ]
     },
     "execution_count": 51,
     "metadata": {},
     "output_type": "execute_result"
    }
   ],
   "source": [
    "df.groupby('영업장명')['매출수량'].sum().sort_values(ascending=False).head(10)"
   ]
  },
  {
   "cell_type": "code",
   "execution_count": 52,
   "id": "07c2363f",
   "metadata": {},
   "outputs": [
    {
     "name": "stdout",
     "output_type": "stream",
     "text": [
      "     영업장명                메뉴명   매출수량\n",
      "0   포레스트릿               꼬치어묵  68733\n",
      "1   화담숲주막               해물파전  60126\n",
      "2   포레스트릿                떡볶이  56424\n",
      "3   포레스트릿                 생수  41445\n",
      "4   포레스트릿             치즈 핫도그  30402\n",
      "5   카페테리아          수제 등심 돈까스  27336\n",
      "6   카페테리아       단체식 18000(신)  26571\n",
      "7   화담숲카페          아메리카노 ICE  22525\n",
      "8   포레스트릿               코카콜라  22035\n",
      "9   포레스트릿         아메리카노(ICE)  21000\n",
      "10  카페테리아       단체식 13000(신)  20784\n",
      "11   미라시아         브런치(대인) 주말  20426\n",
      "12   미라시아         브런치(대인) 주중  19823\n",
      "13  화담숲주막               병천순대  17339\n",
      "14     담하                공깃밥  16448\n",
      "15     담하  (단체) 황태해장국 3/27까지  15892\n",
      "16  카페테리아        약 고추장 돌솥비빔밥  15606\n",
      "17  포레스트릿           복숭아 아이스티  15370\n",
      "18  화담숲주막           느린마을 막걸리  15187\n",
      "19     담하          담하 한우 불고기  14957\n"
     ]
    }
   ],
   "source": [
    "# 영업장별, 메뉴별 매출수량 합계 계산\n",
    "grouped = df.groupby(['영업장명', '메뉴명'])['매출수량'].sum().reset_index()\n",
    "\n",
    "# 매출수량 기준 내림차순 정렬\n",
    "grouped_sales = grouped.sort_values(by='매출수량', ascending=False)\n",
    "grouped_sales.reset_index(drop=True, inplace=True)\n",
    "print(grouped_sales.head(20))"
   ]
  },
  {
   "cell_type": "code",
   "execution_count": null,
   "id": "26240455",
   "metadata": {},
   "outputs": [
    {
     "data": {
      "text/html": [
       "<div>\n",
       "<style scoped>\n",
       "    .dataframe tbody tr th:only-of-type {\n",
       "        vertical-align: middle;\n",
       "    }\n",
       "\n",
       "    .dataframe tbody tr th {\n",
       "        vertical-align: top;\n",
       "    }\n",
       "\n",
       "    .dataframe thead th {\n",
       "        text-align: right;\n",
       "    }\n",
       "</style>\n",
       "<table border=\"1\" class=\"dataframe\">\n",
       "  <thead>\n",
       "    <tr style=\"text-align: right;\">\n",
       "      <th></th>\n",
       "      <th>영업일자</th>\n",
       "      <th>매출수량</th>\n",
       "      <th>영업장명</th>\n",
       "      <th>메뉴명</th>\n",
       "      <th>년</th>\n",
       "      <th>월</th>\n",
       "      <th>일</th>\n",
       "      <th>요일</th>\n",
       "    </tr>\n",
       "  </thead>\n",
       "  <tbody>\n",
       "    <tr>\n",
       "      <th>0</th>\n",
       "      <td>2023-01-01</td>\n",
       "      <td>0</td>\n",
       "      <td>느티나무 셀프BBQ</td>\n",
       "      <td>1인 수저세트</td>\n",
       "      <td>2023</td>\n",
       "      <td>1</td>\n",
       "      <td>2023-01-01</td>\n",
       "      <td>Sunday</td>\n",
       "    </tr>\n",
       "    <tr>\n",
       "      <th>1</th>\n",
       "      <td>2023-01-02</td>\n",
       "      <td>0</td>\n",
       "      <td>느티나무 셀프BBQ</td>\n",
       "      <td>1인 수저세트</td>\n",
       "      <td>2023</td>\n",
       "      <td>1</td>\n",
       "      <td>2023-01-02</td>\n",
       "      <td>Monday</td>\n",
       "    </tr>\n",
       "    <tr>\n",
       "      <th>2</th>\n",
       "      <td>2023-01-03</td>\n",
       "      <td>0</td>\n",
       "      <td>느티나무 셀프BBQ</td>\n",
       "      <td>1인 수저세트</td>\n",
       "      <td>2023</td>\n",
       "      <td>1</td>\n",
       "      <td>2023-01-03</td>\n",
       "      <td>Tuesday</td>\n",
       "    </tr>\n",
       "    <tr>\n",
       "      <th>3</th>\n",
       "      <td>2023-01-04</td>\n",
       "      <td>0</td>\n",
       "      <td>느티나무 셀프BBQ</td>\n",
       "      <td>1인 수저세트</td>\n",
       "      <td>2023</td>\n",
       "      <td>1</td>\n",
       "      <td>2023-01-04</td>\n",
       "      <td>Wednesday</td>\n",
       "    </tr>\n",
       "    <tr>\n",
       "      <th>4</th>\n",
       "      <td>2023-01-05</td>\n",
       "      <td>0</td>\n",
       "      <td>느티나무 셀프BBQ</td>\n",
       "      <td>1인 수저세트</td>\n",
       "      <td>2023</td>\n",
       "      <td>1</td>\n",
       "      <td>2023-01-05</td>\n",
       "      <td>Thursday</td>\n",
       "    </tr>\n",
       "  </tbody>\n",
       "</table>\n",
       "</div>"
      ],
      "text/plain": [
       "        영업일자  매출수량        영업장명      메뉴명     년  월           일         요일\n",
       "0 2023-01-01     0  느티나무 셀프BBQ  1인 수저세트  2023  1  2023-01-01     Sunday\n",
       "1 2023-01-02     0  느티나무 셀프BBQ  1인 수저세트  2023  1  2023-01-02     Monday\n",
       "2 2023-01-03     0  느티나무 셀프BBQ  1인 수저세트  2023  1  2023-01-03    Tuesday\n",
       "3 2023-01-04     0  느티나무 셀프BBQ  1인 수저세트  2023  1  2023-01-04  Wednesday\n",
       "4 2023-01-05     0  느티나무 셀프BBQ  1인 수저세트  2023  1  2023-01-05   Thursday"
      ]
     },
     "execution_count": 53,
     "metadata": {},
     "output_type": "execute_result"
    }
   ],
   "source": [
    "# 파생 컬럼 생성\n",
    "df['년'] = df['영업일자'].dt.year\n",
    "df['월'] = df['영업일자'].dt.month\n",
    "df['일'] = df['영업일자'].dt.date\n",
    "df['요일'] = df['영업일자'].dt.day_name()\n",
    "df.head()"
   ]
  },
  {
   "cell_type": "code",
   "execution_count": null,
   "id": "f1089757",
   "metadata": {},
   "outputs": [],
   "source": [
    "#월별 메뉴별 판매량 시각화\n",
    "import seaborn as sns\n",
    "import matplotlib.pyplot as plt\n",
    "\n",
    "def plot_monthly_sales(df):\n",
    "    monthly = df.groupby(['영업장명', '메뉴명', '년', '월'])['매출수량'].sum().reset_index()\n",
    "    g = sns.catplot(data=monthly, x='월', y='매출수량', hue='메뉴명', col='영업장명',\n",
    "                    kind='bar', col_wrap=3, height=4, aspect=1.5)\n",
    "    g.set_titles(\"{col_name}\")\n",
    "    g.set_axis_labels(\"월\", \"총 매출수량\")\n",
    "    plt.suptitle(\"월별 메뉴별 판매량 (영업장별)\", y=1.03)\n",
    "    plt.tight_layout()\n",
    "    plt.show()\n"
   ]
  }
 ],
 "metadata": {
  "kernelspec": {
   "display_name": "stat",
   "language": "python",
   "name": "python3"
  },
  "language_info": {
   "codemirror_mode": {
    "name": "ipython",
    "version": 3
   },
   "file_extension": ".py",
   "mimetype": "text/x-python",
   "name": "python",
   "nbconvert_exporter": "python",
   "pygments_lexer": "ipython3",
   "version": "3.10.13"
  }
 },
 "nbformat": 4,
 "nbformat_minor": 5
}
